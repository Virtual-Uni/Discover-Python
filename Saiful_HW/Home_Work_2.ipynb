{
 "cells": [
  {
   "cell_type": "code",
   "execution_count": 2,
   "metadata": {},
   "outputs": [
    {
     "name": "stdout",
     "output_type": "stream",
     "text": [
      "please insert your number 5\n",
      "The average of all odd numbers is  3.0\n"
     ]
    }
   ],
   "source": [
    "# Exercise 1: Find the average of all odd numbers from zero to a given number\n",
    "\n",
    "number = int(input(\"please insert your number \"))\n",
    "\n",
    "#creating a list of all odd numbers\n",
    "my_list = list(range(1, number+1, 2))\n",
    "\n",
    "# making average of the lis of odd numbers\n",
    "average = sum(my_list)/len(my_list)\n",
    "\n",
    "print(\"The average of all odd numbers is \",average  )"
   ]
  },
  {
   "cell_type": "code",
   "execution_count": 3,
   "metadata": {},
   "outputs": [
    {
     "name": "stdout",
     "output_type": "stream",
     "text": [
      "Please enter a number 6\n",
      "The Fibonacci series upto your number 6 is:\n",
      "0\n",
      "1\n",
      "1\n",
      "2\n",
      "3\n",
      "5\n"
     ]
    }
   ],
   "source": [
    "# Exercise 2: Find out the Fibonacci series up to nth term\n",
    "\n",
    "number = int(input(\"Please enter a number \"))\n",
    "\n",
    "# first two terms \n",
    "\n",
    "n1 = 0\n",
    "n2 = 1\n",
    "count = 0\n",
    "\n",
    "# check if the number of terms is valid\n",
    "if number <= 0:\n",
    "    print(\"Please enter a positive integer\")\n",
    "    \n",
    "# Fibonacci series for input 1\n",
    "elif number == 1:\n",
    "    print(\"The Fibonacci series upto your number\",number,\"is:\")\n",
    "    print(n1)\n",
    "    \n",
    "# Fibonacci series for input greater than 1\n",
    "else:\n",
    "    print(\"The Fibonacci series upto your number\",number,\"is:\")\n",
    "    for count in range(number):\n",
    "        print(n1)\n",
    "        nth = n1 + n2\n",
    "        \n",
    "       # update values\n",
    "        n1 = n2\n",
    "        n2 = nth\n",
    "        count += 1"
   ]
  },
  {
   "cell_type": "code",
   "execution_count": 2,
   "metadata": {},
   "outputs": [
    {
     "name": "stdout",
     "output_type": "stream",
     "text": [
      "The avearge salary of all employee for June is:  4471.43\n"
     ]
    }
   ],
   "source": [
    "# Exercise 3: Find out the average salary of the employee for the month of June\n",
    "\n",
    "# importing statistics library for mean\n",
    "\n",
    "import statistics as s\n",
    "\n",
    "june_salary = [5000, 4000, 7000, 800, 1000, 6000, 7500]\n",
    "\n",
    "average_june_salary = round(s.mean(june_salary), 2)\n",
    "\n",
    "print(\"The avearge salary of all employee for June is: \", average_june_salary)"
   ]
  },
  {
   "cell_type": "code",
   "execution_count": 12,
   "metadata": {},
   "outputs": [
    {
     "name": "stdout",
     "output_type": "stream",
     "text": [
      "please enter your name\n",
      "\n",
      "saiful\n",
      "\n",
      "please tell us your problem \n",
      "If not, please type exit \n",
      "\n",
      "fever\n",
      "\n",
      "please go outside and take some fresh air\n",
      "\n",
      "\n",
      "please tell us your problem \n",
      "If not, please type exit \n",
      "\n",
      "exit\n",
      "\n",
      "Hello saiful , thank you to visit us!\n"
     ]
    }
   ],
   "source": [
    "# Exercise 4: suggesting medication according to the diagnosis / disease\n",
    "\n",
    "name = input(\"please enter your name\\n\\n\")\n",
    "\n",
    "# code for asking the patients aoout their problem\n",
    "\n",
    "while True:\n",
    "    disease = input(\"\\nplease tell us your problem \\nIf not, please type exit \\n\\n\")\n",
    "    disease_fresh_air = [\"headache\", \"fever\", \"running nose\"]\n",
    "    disease_bath = [\"tiredness\", \"sleeplessness\"]\n",
    "    if \"exit\" in disease:\n",
    "        print(\"\\nHello\", name, \", thank you to visit us!\")\n",
    "        break\n",
    "    if any(i == disease for i in disease_fresh_air):\n",
    "        print(\"\\nplease go outside and take some fresh air\\n\")\n",
    "    elif any(i == disease for i in disease_bath):\n",
    "        print(\"\\ntake a long bath and sleep\\n\")\n",
    "    else:\n",
    "        print(\"\\nunknown disease, please consult with specialist\")\n",
    "        break\n",
    "        "
   ]
  },
  {
   "cell_type": "code",
   "execution_count": 11,
   "metadata": {},
   "outputs": [
    {
     "name": "stdout",
     "output_type": "stream",
     "text": [
      "please insert your city Munich\n",
      "\n",
      "have a nice trip \n",
      "the average temperature of last 5 days of the city 16.4\n"
     ]
    }
   ],
   "source": [
    "# Exercise 5: Recommendation of a city to a tourist \n",
    "\n",
    "#importing library for mean temperature\n",
    "import statistics as s\n",
    "\n",
    "# asking visitors their place \n",
    "City = input(\"please insert your city \")\n",
    "\n",
    "# list of last 10 days temperature  for different cities\n",
    "\n",
    "Munich_temperate_last_10_days = [10,11, 16, 9, 22, -3, 23, 24, 17, 21]\n",
    "Dhaka_temperate_last_10_days = [40, 37, 42, 41, 33, 23, 25, -1, 19, 14]\n",
    "Berlin_temperate_last_10_days = [-3, 23, 27, 18, 21, 3, 23, 7, 17, 21]\n",
    "London_temperate_last_10_days = [23, 25, -10, 19, 14, 10,11, 16, 9, 22]\n",
    "Sydney_temperate_last_10_days = [ 24, 28, 31, 33, 10, 9, 26, 36, 25, 29]\n",
    "\n",
    "# mean of last 10 days temperatures for different cities\n",
    "\n",
    "avg_temp_Munich = s.mean(Munich_temperate_last_10_days)\n",
    "avg_temp_Dhaka = s.mean(Dhaka_temperate_last_10_days)\n",
    "avg_temp_Berlin = s.mean(Berlin_temperate_last_10_days)\n",
    "avg_temp_London = s.mean(London_temperate_last_10_days)\n",
    "avg_temp_Sydney = s.mean(Sydney_temperate_last_10_days)\n",
    "\n",
    "avg_temp_5_Munich = s.mean(Munich_temperate_last_10_days[5:])\n",
    "avg_temp_5_Dhaka = s.mean(Dhaka_temperate_last_10_days[5:])\n",
    "avg_temp_5_Berlin = s.mean(Berlin_temperate_last_10_days[5:])\n",
    "avg_temp_5_London = s.mean(London_temperate_last_10_days[5:])\n",
    "avg_temp_5_sydney = s.mean(Sydney_temperate_last_10_days[5:])\n",
    "\n",
    "# checking the tempetaure is suitable to visit the place\n",
    "\n",
    "if \"Munich\" in City:\n",
    "    if (avg_temp_Munich<15 or avg_temp_Munich>40 ):\n",
    "        print (\"\\nits not recommende\", \"\\nthe average temperature of \"\n",
    "               \"last 5 days of the city\",avg_temp_5_Munich)\n",
    "    else:\n",
    "        print(\"\\nhave a nice trip\", \"\\nthe average temperature of \"\n",
    "              \"last 5 days of the city\", avg_temp_5_Munich)\n",
    "elif \"Dhaka\" in City:     \n",
    "    if (avg_temp_Dhaka<15 or avg_temp_Dhaka>40):\n",
    "        print (\"\\nits not recommended\", \"\\nthe average temperature of \"\n",
    "               \"last 5 days of the city\" , avg_temp_5_Dhaka)\n",
    "    else:\n",
    "        print(\"\\nhave a nice trip\", \"\\nthe average temperature of \" \n",
    "              \"last 5 days of the city\", avg_temp_5_Dhaka)\n",
    "elif \"Berlin\" in City:     \n",
    "    if (avg_temp_Berlin<15 or avg_temp_Berlin>40):\n",
    "        print (\"its not recommended\",\"\\nthe average temperature of \" \n",
    "               \"last 5 days of the city\", avg_temp_5_Berlin )\n",
    "    else:\n",
    "        print(\"\\nhave a nice trip\", \"\\nthe average temperature of \"\n",
    "              \"last 5 days of the city\", avg_temp_5_Berlin )\n",
    "elif \"London\" in City:     \n",
    "    if (avg_temp_London<15 or avg_temp_London>40):\n",
    "        print (\"\\nits not recommended\", \"\\nthe average temperature of \" \n",
    "               \"last 5 days of the city\" , avg_temp_5_London)\n",
    "    else:\n",
    "        print(\"\\nhave a nice trip\", \"\\nthe average temperature of \" \n",
    "              \"last 5 days of the city\", avg_temp_5_London)\n",
    "elif \"Sydney\" in City:     \n",
    "    if (avg_temp_Sydney<15 or avg_temp_Sydney> 40):\n",
    "        print (\"\\nits not recommended\",\"\\nThe average temperature of \" \n",
    "               \"last 5 days of the city\", avg_temp_5_sydney )\n",
    "    else:\n",
    "        print(\"\\nhave a nice trip\",\"\\nthe average temperature of \" \n",
    "              \"last 5 days of the city\", avg_temp_5_sydney)\n",
    "else:\n",
    "    print(\"\\nSorry, we dont have any information about this place\")"
   ]
  },
  {
   "cell_type": "code",
   "execution_count": 4,
   "metadata": {},
   "outputs": [
    {
     "name": "stdout",
     "output_type": "stream",
     "text": [
      "please select an operation \n",
      " 1 for addition \n",
      " 2 for substraction\n",
      " 3 for multiplication \n",
      " 4 for division \n",
      "4\n",
      "Enter your first number: 10\n",
      "Enter your second number: 2\n",
      "10.0 / 2.0 = 5.0\n"
     ]
    }
   ],
   "source": [
    "# Exercise 6: Digital calculator\n",
    "\n",
    "# function for adding two numbers\n",
    "def add(x, y):\n",
    "    return x + y\n",
    "\n",
    "# function for subtracting two numbers\n",
    "def subtract(x, y):\n",
    "    return x - y\n",
    "\n",
    "# function for multiplying two numbers\n",
    "def multiply(x, y):\n",
    "    return x * y\n",
    "\n",
    "# function for dividing two numbers\n",
    "def divide(x, y):\n",
    "    return x / y\n",
    "\n",
    "\n",
    "while True:\n",
    "    # Take input from the user\n",
    "    choice = input(\"please select an operation \\n 1 for addition \\n 2 for substraction\"\n",
    "               \"\\n 3 for multiplication \\n 4 for division \\n\" )\n",
    "\n",
    "    # Check if choice is one of the four options\n",
    "    if choice in ('1', '2', '3', '4'):\n",
    "        num1 = float(input(\"Enter your first number: \"))\n",
    "        num2 = float(input(\"Enter your second number: \"))\n",
    "\n",
    "        if choice == '1':\n",
    "            print(num1, \"+\", num2, \"=\", add(num1, num2))\n",
    "\n",
    "        elif choice == '2':\n",
    "            print(num1, \"-\", num2, \"=\", subtract(num1, num2))\n",
    "\n",
    "        elif choice == '3':\n",
    "            print(num1, \"*\", num2, \"=\", multiply(num1, num2))\n",
    "\n",
    "        elif choice == '4':\n",
    "            print(num1, \"/\", num2, \"=\", divide(num1, num2))\n",
    "        break\n",
    "    elif \"exit\" in str(choice):\n",
    "        break\n",
    "    else:\n",
    "        print(\"please type a valid operation\")"
   ]
  },
  {
   "cell_type": "code",
   "execution_count": 2,
   "metadata": {},
   "outputs": [
    {
     "name": "stdout",
     "output_type": "stream",
     "text": [
      "\n",
      "please tell me your income \n",
      "\n",
      "1200\n",
      "\n",
      "please tell me your income \n",
      "\n",
      "exit\n",
      "\n",
      "please tell me your expense \n",
      "\n",
      "200\n",
      "\n",
      "please tell me your expense \n",
      "\n",
      "exit\n",
      "\n",
      "Hey, your balane is  1000.0\n"
     ]
    }
   ],
   "source": [
    "# Exercise 7: Solving monthly balance\n",
    "\n",
    "\n",
    "income = []\n",
    "expense = []\n",
    "\n",
    "# asking all incomes\n",
    "while True:\n",
    "    ask_income = input(\"\\nplease tell me your income \\n\\n\")\n",
    "    income.append(ask_income)\n",
    "    if \"exit\" in ask_income:\n",
    "        break\n",
    "        \n",
    "# asking all expenses\n",
    "while True:\n",
    "    ask_expense = input(\"\\nplease tell me your expense \\n\\n\")\n",
    "    expense.append(ask_expense)\n",
    "    if \"exit\" in ask_expense:\n",
    "        break\n",
    "\n",
    "# updating all incomes to float \n",
    "income = income[:-1]\n",
    "income = [float(i) for i in income]\n",
    "\n",
    "# updating all expenses to float\n",
    "expense = expense[:-1]\n",
    "expense = [float(i) for i in expense]\n",
    "\n",
    "# finally, giving the balance\n",
    "print(\"\\nHey, your balane is \", sum(income)-sum(expense))\n",
    " \n"
   ]
  }
 ],
 "metadata": {
  "kernelspec": {
   "display_name": "Python 3",
   "language": "python",
   "name": "python3"
  },
  "language_info": {
   "codemirror_mode": {
    "name": "ipython",
    "version": 3
   },
   "file_extension": ".py",
   "mimetype": "text/x-python",
   "name": "python",
   "nbconvert_exporter": "python",
   "pygments_lexer": "ipython3",
   "version": "3.8.3"
  }
 },
 "nbformat": 4,
 "nbformat_minor": 4
}
