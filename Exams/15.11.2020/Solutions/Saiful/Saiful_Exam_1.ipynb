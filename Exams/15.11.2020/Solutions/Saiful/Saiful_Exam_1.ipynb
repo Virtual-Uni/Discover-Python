{
 "cells": [
  {
   "cell_type": "code",
   "execution_count": 77,
   "metadata": {},
   "outputs": [
    {
     "name": "stdout",
     "output_type": "stream",
     "text": [
      "enter a year to check0\n",
      "please enter a year between 2 to 50000\n"
     ]
    }
   ],
   "source": [
    "# Exercise 1: progran to check whether the year is leap year or not \n",
    "\n",
    "year = int(input(\"enter a year to check\"))\n",
    "\n",
    "if year >50000 or year<1:\n",
    "    print(\"please enter a year between 1 to 50000\")\n",
    "\n",
    "elif (year % 4) == 0:\n",
    "    if (year % 100) == 0:\n",
    "        if (year % 400) == 0:\n",
    "            print(year, \"is a leap year\")\n",
    "        else:\n",
    "            print(year, \"not a leap year\")\n",
    "    else:\n",
    "        print(year, \"is a leap year\")\n",
    "else:\n",
    "    print(year, \"is not a leap year\")"
   ]
  },
  {
   "cell_type": "code",
   "execution_count": 87,
   "metadata": {},
   "outputs": [
    {
     "name": "stdout",
     "output_type": "stream",
     "text": [
      "please enter a number0\n",
      "please enter a number between 1 to 50000\n"
     ]
    }
   ],
   "source": [
    "# Exercise 2: program for non-negative integers\n",
    "\n",
    "number = int(input(\"please enter a number\"))\n",
    "\n",
    "if number >50000 or number<1:\n",
    "    print(\"please enter a number between 1 to 50000\")\n",
    "\n",
    "elif 1<= number <=50000:\n",
    "    squares = [x*x for x in range(number+1)]\n",
    "    print(squares)"
   ]
  },
  {
   "cell_type": "code",
   "execution_count": 97,
   "metadata": {},
   "outputs": [
    {
     "name": "stdout",
     "output_type": "stream",
     "text": [
      "enter a number6\n",
      "[0]\n",
      "[0, 1]\n",
      "[0, 1, 2]\n",
      "[0, 1, 2, 3]\n",
      "[0, 1, 2, 3, 4]\n",
      "[0, 1, 2, 3, 4, 5]\n",
      "[0, 1, 2, 3, 4, 5, 6]\n"
     ]
    }
   ],
   "source": [
    "# Exercise 3: program for all non-negative integers for print in separate line\n",
    "\n",
    "number = int(input(\"enter a number\"))\n",
    "list_num = []\n",
    "\n",
    "if number >50 or number<1:\n",
    "    print(\"please enter a number between 1 to 50\")\n",
    "\n",
    "else:\n",
    "    for i in range(number+1):\n",
    "        list_update = list_num.append(i)\n",
    "        list_num.sort()\n",
    "        print(list_num)"
   ]
  },
  {
   "cell_type": "code",
   "execution_count": 66,
   "metadata": {},
   "outputs": [
    {
     "name": "stdout",
     "output_type": "stream",
     "text": [
      "Passed: You have practised at home\n",
      "Failed: You were not serious\n",
      "Other: I have practised but not enough\n"
     ]
    }
   ],
   "source": [
    "# Exercise 4: code to find the meaning of a word from a dictionary\n",
    "\n",
    "my_dict = {\"Passed\": \"You have practised at home\", \"Failed\": \"You were not serious\", \n",
    "           \"Other\": \"I have practised but not enough\"}\n",
    "\n",
    "for item, value in my_dict.items():\n",
    "    print(item + \":\", value)\n"
   ]
  },
  {
   "cell_type": "code",
   "execution_count": 58,
   "metadata": {},
   "outputs": [
    {
     "name": "stdout",
     "output_type": "stream",
     "text": [
      "How many numbers: 3\n",
      "Enter number 12\n",
      "Enter number 12\n",
      "Enter number 3\n",
      "The average of the list [12, 12, 3] is:  9.0\n"
     ]
    }
   ],
   "source": [
    "# Exercise 5: Calculate the average of first n itens of the list.\n",
    "\n",
    "num = int(input('How many numbers: '))\n",
    "my_list = []\n",
    "\n",
    "for n in range(num):\n",
    "    numbers = int(input('Enter number '))\n",
    "    my_list.append(numbers)\n",
    "    \n",
    "print(\"The average of the list\", my_list, \"is: \" ,  sum(my_list)/len(my_list))"
   ]
  },
  {
   "cell_type": "code",
   "execution_count": 64,
   "metadata": {},
   "outputs": [
    {
     "name": "stdout",
     "output_type": "stream",
     "text": [
      "{'Hasan': 11.667, 'Shakir': 11.333, 'Hanif': 15.0, 'Saiful': 20.0}\n"
     ]
    }
   ],
   "source": [
    "#Exercise 6: find the average of the matks of the students from a dictionary\n",
    "\n",
    "student_marks = {\"Hasan\": [10, 5, 20], \"Shakir\": [10,10,14], \"Hanif\": [20, 15, 10], \"Saiful\": [20,20,20]}\n",
    "avg_marks = {}\n",
    "\n",
    "for key,value in student_marks.items():\n",
    "    avg_marks[key] = round(sum(value)/ float(len(value)),3)\n",
    "    \n",
    "print(avg_marks)"
   ]
  }
 ],
 "metadata": {
  "kernelspec": {
   "display_name": "Python 3",
   "language": "python",
   "name": "python3"
  },
  "language_info": {
   "codemirror_mode": {
    "name": "ipython",
    "version": 3
   },
   "file_extension": ".py",
   "mimetype": "text/x-python",
   "name": "python",
   "nbconvert_exporter": "python",
   "pygments_lexer": "ipython3",
   "version": "3.8.3"
  }
 },
 "nbformat": 4,
 "nbformat_minor": 4
}
