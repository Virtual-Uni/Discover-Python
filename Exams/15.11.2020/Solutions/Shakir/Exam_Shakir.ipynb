{
 "cells": [
  {
   "cell_type": "code",
   "execution_count": null,
   "metadata": {},
   "outputs": [],
   "source": [
    "# task 1: leap year \n",
    "\n",
    "input_year = int (input (\"please provide year to check : \"))\n",
    "\n",
    "if input_year % 4 == 0:\n",
    "    print (\"Year\", input_year, \"is a leap year\")\n",
    "else: \n",
    "    print (\"Year\", input_year, \"is not a leap year\") "
   ]
  },
  {
   "cell_type": "code",
   "execution_count": null,
   "metadata": {},
   "outputs": [],
   "source": [
    "# task 2 \n",
    "given_number = int (input (\"please provide a number : \"))\n",
    "\n",
    "if given_number < 0 :\n",
    "    print (\"please provide a non-negative number\")\n",
    "for i in range (0, given_number):\n",
    "    if i >=  0:\n",
    "        print (i**2)\n",
    "    else:\n",
    "        print (\"please provide a non-negative number\")\n",
    "    "
   ]
  },
  {
   "cell_type": "code",
   "execution_count": null,
   "metadata": {},
   "outputs": [],
   "source": [
    "# task 3 \n",
    "given_number_2 = int (input (\"please provide a number : \"))\n",
    "\n",
    "for i in range (0, given_number_2+1):\n",
    "    print (i * \"*\")\n",
    "    \n",
    "\n",
    "\n"
   ]
  },
  {
   "cell_type": "code",
   "execution_count": null,
   "metadata": {},
   "outputs": [],
   "source": [
    "# task 4 \n",
    "\n",
    "dictionary = {\"passed\" : \"you have practiced at home\", \"failed\": \"you were not serious\", \"not attend\": \"you were afraid of the exam\"}\n",
    "\n",
    "user_input = input (\"type your word: \")\n",
    "\n",
    "if user_input in dictionary:\n",
    "    print (dictionary.get(user_input))\n",
    "else:\n",
    "    print (\"your desired key is not defined. try searching 'failed' 'passed' 'not attend'\")\n",
    "        \n"
   ]
  },
  {
   "cell_type": "code",
   "execution_count": null,
   "metadata": {},
   "outputs": [],
   "source": [
    "# task 5 \n",
    "length_list = int (input (\"how many elements in your list: \"))\n",
    "our_list = []\n",
    "\n",
    "while True:\n",
    "    number_of_item = int (input (\"the first N items, you want to average: \"))\n",
    "\n",
    "    if number_of_item > length_list:\n",
    "        print (\" your desired N items are greater than the elements in your list\")\n",
    "        break \n",
    "    else:\n",
    "\n",
    "        for i in range (length_list):\n",
    "            our_list.append(int(input(\"enter value \")))\n",
    "\n",
    "        average = sum (our_list [:number_of_item])/number_of_item\n",
    "        print (\"your list is as follows: \", our_list)\n",
    "        print (\"average of first\", number_of_item, \"items is\", average )\n",
    "\n"
   ]
  },
  {
   "cell_type": "code",
   "execution_count": 5,
   "metadata": {},
   "outputs": [
    {
     "name": "stdout",
     "output_type": "stream",
     "text": [
      "how many results you want to enter in hasan's result list: 2\n",
      "how many results you want to enter in shakir's result list: 2\n",
      "enter hasan's exam results10\n",
      "enter hasan's exam results20\n",
      "enter shakir's exam results11\n",
      "enter shakir's exam results21\n",
      "avegrage of hasan's marks is : 15.0\n",
      "avegrage of shakir's marks is : 16.0\n",
      "{'hasan': [[10, 20]], 'shakir': [[11, 21]]}\n"
     ]
    }
   ],
   "source": [
    "# task 6\n",
    "hasan_marks = []\n",
    "shakir_marks = []\n",
    "saiful_marks = []\n",
    "hanif_marks = []\n",
    "\n",
    "hasan_range = int (input (\"how many results you want to enter in hasan's result list: \"))\n",
    "shakir_range = int (input (\"how many results you want to enter in shakir's result list: \"))\n",
    "saiful_range = int (input (\"how many results you want to enter in saiful's result list: \"))\n",
    "hanif_range = int (input (\"how many results you want to enter in hanif's result list: \"))\n",
    "\n",
    "for i in range (hasan_range):\n",
    "    hasan_marks.append (int (input (\"enter hasan's exam results\")))\n",
    "for i in range (shakir_range):\n",
    "    shakir_marks.append (int (input (\"enter shakir's exam results\")))\n",
    "for i in range (saiful_range):\n",
    "    saiful_marks.append (int (input (\"enter saiful's exam results\")))\n",
    "for i in range (hanif_range):\n",
    "    hanif_marks.append (int (input (\"enter hanif's exam results\")))\n",
    "\n",
    "marks_dict = {\"hasan\": [hasan_marks], \"shakir\": [shakir_marks], \"saiful\": [saiful_marks], \"hanif\": [hanif_marks]}\n",
    "\n",
    "avg_hasan = sum (hasan_marks)/len (hasan_marks)\n",
    "avg_shakir = sum (shakir_marks)/len (shakir_marks\n",
    "avg_saiful = sum (saiful_marks)/len (saiful_marks)\n",
    "avg_hanif = sum (hanif_marks)/len (hanif_marks)\n",
    "\n",
    "print (\"avegrage of hasan's marks is :\", avg_hasan)\n",
    "print (\"avegrage of shakir's marks is :\", avg_shakir)\n",
    "print (\"avegrage of saiful's marks is :\", avg_saiful)\n",
    "print (\"avegrage of hanif's marks is :\", avg_hanif)\n",
    "\n"
   ]
  },
  {
   "cell_type": "code",
   "execution_count": null,
   "metadata": {},
   "outputs": [],
   "source": []
  },
  {
   "cell_type": "code",
   "execution_count": null,
   "metadata": {},
   "outputs": [],
   "source": []
  }
 ],
 "metadata": {
  "kernelspec": {
   "display_name": "Python 3",
   "language": "python",
   "name": "python3"
  },
  "language_info": {
   "codemirror_mode": {
    "name": "ipython",
    "version": 3
   },
   "file_extension": ".py",
   "mimetype": "text/x-python",
   "name": "python",
   "nbconvert_exporter": "python",
   "pygments_lexer": "ipython3",
   "version": "3.8.5"
  }
 },
 "nbformat": 4,
 "nbformat_minor": 4
}
