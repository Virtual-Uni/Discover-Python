{
 "cells": [
  {
   "cell_type": "code",
   "execution_count": null,
   "metadata": {},
   "outputs": [],
   "source": [
    "#Excercise:1\n",
    "n= input(\"Enter number to calculate sum and average: \")\n",
    "n= int(n)\n",
    "sum= 0\n",
    "for number in range (0, n+1, 1):\n",
    "    if(not(number%2)==0):\n",
    "        sum+=number;\n",
    "average= sum/n\n",
    "print(\"sum of odd number is:\", sum)\n",
    "print(\"average of odd number is:\", average)"
   ]
  },
  {
   "cell_type": "code",
   "execution_count": null,
   "metadata": {},
   "outputs": [],
   "source": [
    "#Excercise: 2\n",
    "n= int(input(\"how many terms?\"))\n",
    "n1=0\n",
    "n2=1\n",
    "sum=0\n",
    "count=1\n",
    "if n<=0:\n",
    "    print(\"please enter a positive intiger\")\n",
    "else:\n",
    "    print(\"Fibonacci sequence:\")\n",
    "    while count <= n:\n",
    "        print(sum, end=\" \")\n",
    "        count +=1\n",
    "        n1=n2\n",
    "        n2=sum\n",
    "        sum= n1+n2"
   ]
  },
  {
   "cell_type": "code",
   "execution_count": 13,
   "metadata": {},
   "outputs": [
    {
     "name": "stdout",
     "output_type": "stream",
     "text": [
      "Sum of the Salary is : 98800\n",
      "Average salary for the month of June is:  14114.285714285714\n"
     ]
    }
   ],
   "source": [
    "#Excercise: 3\n",
    "sum=0\n",
    "june_salary=[5000,4000,7000,800,1000,6000,75000]\n",
    "for num in june_salary:\n",
    "    sum=sum+num\n",
    "    avg=sum/len(june_salary)\n",
    "print(\"Sum of the Salary is :\", sum)\n",
    "print(\"Average salary for the month of June is: \", avg)"
   ]
  },
  {
   "cell_type": "code",
   "execution_count": null,
   "metadata": {},
   "outputs": [],
   "source": [
    "#Excercise 4: Developing a hospital management system\n",
    "print (\"Welcome to our automated medication system\")\n",
    "user_name= input(\"Please enter your name: \")\n",
    "while True:\n",
    "    disease_name= input(\"Please mention the type of your disease, if you want to exit please type 'Exit': \").casefold()\n",
    "    disease_fresh_air=[\"headache\",\"fever\",\"running nose\"]\n",
    "    disease_bath=[\"tiredness\",\"sleeplessness\"]\n",
    "    if disease_name in disease_fresh_air:\n",
    "        print(\"Please go outside and take some fresh air\")\n",
    "    else:\n",
    "        if \"exit\" in disease_name:\n",
    "            print(\"Hello\", user_name,\", thank you for visitng us!\")\n",
    "            break\n",
    "        if disease_name in disease_bath:\n",
    "            print(\"Please take a long bath and take some sleep\")    \n",
    "        else:\n",
    "            print(\"unknown disease please consult with specialist\")"
   ]
  },
  {
   "cell_type": "code",
   "execution_count": null,
   "metadata": {},
   "outputs": [],
   "source": [
    "# exercise 5\n",
    "print (\"Welcome to our tourist guide program\")\n",
    "print (\"Hints: write 'exit' to end the program\")\n",
    "\n",
    "while True:\n",
    "    city_name= input(\"Write the name of the city you want to visit: \").casefold ()\n",
    "    \n",
    "    munich_temp = [10,11,16,9,22,-3,23,24,17,21]\n",
    "    dhaka_temp  = [40,37,42,41,33,23,25,-1,19,14]\n",
    "    berlin_temp = [-3,23-27-18,21,3,23,7,17,21]\n",
    "    london_temp = [23,25,-10,19,14,10,11,16,9,22]\n",
    "    sydney_temp = [24,28,31,33,10,9,26,36,25,29]\n",
    "\n",
    "    avg_munich_temp = sum (munich_temp)/ len (munich_temp)\n",
    "    avg_dhaka_temp  = sum (dhaka_temp)/ len (dhaka_temp)\n",
    "    avg_berlin_temp = sum (berlin_temp) / len (berlin_temp)\n",
    "    avg_london_temp = sum (london_temp) / len (london_temp)\n",
    "    avg_sydney_temp = sum (sydney_temp) / len (sydney_temp)\n",
    "\n",
    "    last_five_avg_munich_temp = sum (munich_temp [-5:])/len (munich_temp [-5:])\n",
    "    last_five_avg_dhaka_temp  = sum (dhaka_temp [-5:])/len (dhaka_temp [-5:])\n",
    "    last_five_avg_berlin_temp = sum (berlin_temp [-5:])/len (berlin_temp [-5:])\n",
    "    last_five_avg_london_temp = sum (london_temp [-5:])/len (london_temp [-5:])\n",
    "    last_five_avg_sydney_temp = sum (sydney_temp [-5:])/len (sydney_temp [-5:])\n",
    "    \n",
    "    if \"exit\" in city_name:\n",
    "            print(\"Thank you for visitng us!\")\n",
    "            break\n",
    "    else:\n",
    "        if \"munich\" in city_name:\n",
    "            if 15 < avg_munich_temp < 40:\n",
    "                print (\"recommended to visit\")\n",
    "                print (\"average temp of\", city_name, \"in last 5 days is =\", last_five_avg_munich_temp)\n",
    "            else:\n",
    "                print (\"not recommended to visit\")\n",
    "        else:\n",
    "            if \"dhaka\" in city_name:\n",
    "                if 15 < avg_dhaka_temp < 40:\n",
    "                    print (\"recommended to visit\")\n",
    "                    print (\"average temp of\", city_name, \"in last 5 days is =\", last_five_avg_dhaka_temp)\n",
    "                else:\n",
    "                    print (\"not recommended to visit\")\n",
    "            else:\n",
    "                if \"berlin\" in city_name:\n",
    "                    if 15 < avg_berlin_temp < 40:\n",
    "                        print (\"recommended to visit\")\n",
    "                        print (\"average temp of\", city_name, \"in last 5 days is =\", last_five_avg_berlin_temp)\n",
    "                    else:\n",
    "                        print (\"not recommended to visit\")\n",
    "                else:\n",
    "                    if \"london\"  in city_name:\n",
    "                        if 15 < avg_london_temp < 40:\n",
    "                            print (\"recommended to visit\")\n",
    "                            print (\"average temp of\", city_name, \"in last 5 days is =\", last_five_avg_london_temp)\n",
    "                        else:\n",
    "                            print (\"not recommended to visit\")\n",
    "                    else:\n",
    "                        if \"sydney\" in city_name:\n",
    "                            if 15 <avg_sydney_temp < 40:\n",
    "                                print (\"recommended to visit\")\n",
    "                                print (\"average temp of\", city_name, \"in last 5 days is =\", last_five_avg_sydney_temp)\n",
    "                            else:\n",
    "                                print (\"not recommended to visit\")\n",
    "\n",
    "                        else:\n",
    "                            print (\"Sorry !! no data available for this city\") \n",
    "\n"
   ]
  },
  {
   "cell_type": "code",
   "execution_count": null,
   "metadata": {},
   "outputs": [],
   "source": [
    "#exercise 6\n",
    "supported_function_name = (\"1. Addition\", \"2. substraction\", \"3. Multiplication\", \"4. Division\", \"5. Power\", \"6. Exit\")\n",
    "list_functions = \"addition\" \"substraction\" \"multiplication\" \"division\" \"power\" \"exit\"\n",
    "print (\"Welcome to my digital calculator. List of supported functions:\")\n",
    "for item in supported_function_name:\n",
    "    print (item)\n",
    "while True:\n",
    "    desired_function = input (\"which function do you want to use? \").casefold ()\n",
    "    if desired_function not in list_functions:\n",
    "        print (\"Unknown function. Please choose a supported function.\")\n",
    "    else:\n",
    "        if \"exit\" in desired_function:\n",
    "            print (\"Thank you for using my calculator.\")\n",
    "            print (\"(Program ended.)\")\n",
    "            break\n",
    "\n",
    "        else: \n",
    "            numb_1 = int(input (\"please enter first value:\"))\n",
    "            numb_2 = int(input (\"please enter second value:\"))\n",
    "\n",
    "            if \"addition\" in desired_function:\n",
    "                sum = numb_1 + numb_2\n",
    "                print (\"Summation of\", numb_1, \"and\", numb_2, \"is: \", sum)\n",
    "            if \"substraction\" in desired_function:\n",
    "                sub = numb_1 - numb_2\n",
    "                print (\"Substraction of\", numb_2, \"from\", numb_1, \"is: \", sub)\n",
    "            if \"multiplication\" in desired_function:\n",
    "                mult = numb_1 * numb_2\n",
    "                print (\"Multiplication of\", numb_1, \"and\", numb_2, \"is: \", mult)\n",
    "            if \"division\" in desired_function:\n",
    "                div = numb_1 / numb_2\n",
    "                print (\"Division of\", numb_1, \"by\", numb_2, \"is: \", div)\n",
    "            if \"power\" in desired_function:\n",
    "                pow = pow (numb_1,numb_2)\n",
    "                print (\"The value of\", numb_1, \"to the power of\", numb_2, \"is: \", pow)\n"
   ]
  },
  {
   "cell_type": "code",
   "execution_count": null,
   "metadata": {},
   "outputs": [],
   "source": []
  },
  {
   "cell_type": "code",
   "execution_count": 4,
   "metadata": {},
   "outputs": [
    {
     "name": "stdout",
     "output_type": "stream",
     "text": [
      "welcome to automated monthly balance \n",
      "How many income values you want to give: 2\n",
      "Please enter your income(s): 500\n",
      "Please enter your income(s): 600\n",
      "How many expense values you want to give: 2\n",
      "Please enter your expense(s): 400\n",
      "Please enter your expense(s): 200\n",
      "Your balance is :  500\n",
      "You have a Positive Balance\n"
     ]
    }
   ],
   "source": [
    "#exercise 7:\n",
    "print (\"welcome to automated monthly balance \")\n",
    "\n",
    "income_numb = int (input (\"How many income values you want to give: \"))\n",
    "income_value = [int (input(\"Please enter your income(s): \")) for _ in range (income_numb)]\n",
    "\n",
    "expense_numb = int (input (\"How many expense values you want to give: \"))\n",
    "expense_value = [int (input(\"Please enter your expense(s): \")) for _ in range (expense_numb)]\n",
    "\n",
    "balance= sum (income_value)- sum (expense_value)\n",
    "print (\"Your balance is : \", str(balance))\n",
    "if balance <0:\n",
    "    print(\"You have a Negative Balance\")\n",
    "else:\n",
    "    if balance >0:\n",
    "        print(\"You have a Positive Balance\")\n",
    "    else:\n",
    "        print(\"You have a Equal Balance\")"
   ]
  },
  {
   "cell_type": "code",
   "execution_count": 1,
   "metadata": {},
   "outputs": [
    {
     "name": "stdout",
     "output_type": "stream",
     "text": [
      "[32, 30, 40, 50]\n",
      "152\n"
     ]
    }
   ],
   "source": []
  },
  {
   "cell_type": "code",
   "execution_count": null,
   "metadata": {},
   "outputs": [],
   "source": []
  }
 ],
 "metadata": {
  "kernelspec": {
   "display_name": "Python 3",
   "language": "python",
   "name": "python3"
  },
  "language_info": {
   "codemirror_mode": {
    "name": "ipython",
    "version": 3
   },
   "file_extension": ".py",
   "mimetype": "text/x-python",
   "name": "python",
   "nbconvert_exporter": "python",
   "pygments_lexer": "ipython3",
   "version": "3.8.5"
  }
 },
 "nbformat": 4,
 "nbformat_minor": 4
}
